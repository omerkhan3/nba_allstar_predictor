{
 "cells": [
  {
   "cell_type": "markdown",
   "id": "iI3iT5IRxI5l",
   "metadata": {
    "id": "iI3iT5IRxI5l"
   },
   "source": [
    "# ISYE 6740 Final Project - omerkhan & afante3"
   ]
  },
  {
   "cell_type": "code",
   "execution_count": 170,
   "id": "4f40c21e-743c-4648-bd95-d4610baaad29",
   "metadata": {
    "id": "4f40c21e-743c-4648-bd95-d4610baaad29",
    "tags": []
   },
   "outputs": [],
   "source": [
    "import pandas as pd\n",
    "import requests\n",
    "import numpy as np\n",
    "import nba_api.stats.endpoints as nba_stats\n",
    "from nba_api.stats.endpoints import leagueleaders\n",
    "from nba_api.stats.endpoints import commonplayerinfo\n",
    "from nba_api.stats.endpoints import teamyearbyyearstats\n",
    "from nba_api.stats.static import teams\n",
    "import time\n",
    "import concurrent.futures\n",
    "from sklearn.model_selection import train_test_split\n",
    "from sklearn.ensemble import RandomForestClassifier\n",
    "from sklearn.metrics import classification_report\n",
    "from nba_api.stats.endpoints import leaguestandings\n",
    "from sklearn.preprocessing import StandardScaler\n",
    "import matplotlib.pyplot as plt\n",
    "from sklearn.ensemble import GradientBoostingClassifier\n",
    "import seaborn as sns"
   ]
  },
  {
   "cell_type": "markdown",
   "id": "c706a28c-f6c9-4623-8278-0d49091531d7",
   "metadata": {},
   "source": [
    "## Pre-processing steps needed to construct the dataset used for training.  However, you can skip ahead to model training which loads the equivalent data from a static file."
   ]
  },
  {
   "cell_type": "markdown",
   "id": "6S0RocH9xX7-",
   "metadata": {
    "id": "6S0RocH9xX7-"
   },
   "source": [
    "#### Using NBA Season data from 2010-2020"
   ]
  },
  {
   "cell_type": "code",
   "execution_count": 171,
   "id": "16a9a151-65b4-43ff-b525-f5cb3ee9e180",
   "metadata": {
    "id": "16a9a151-65b4-43ff-b525-f5cb3ee9e180",
    "tags": []
   },
   "outputs": [],
   "source": [
    "seasons = [\n",
    "    '2010-11',\n",
    "    '2011-12',\n",
    "    '2012-13',\n",
    "    '2013-14',\n",
    "    '2014-15',\n",
    "    '2015-16',\n",
    "    '2016-17',\n",
    "    '2017-18',\n",
    "    '2018-19',\n",
    "    '2019-20'\n",
    "]"
   ]
  },
  {
   "cell_type": "markdown",
   "id": "x7Oy8BU1xd9I",
   "metadata": {
    "id": "x7Oy8BU1xd9I"
   },
   "source": [
    "#### Leveraging the NBA API, we can build a dataset of player and team information over our season period and calculate per game averages for each season and player across the period. The NBA_API can be viewed in further detail [here](https://github.com/swar/nba_api)"
   ]
  },
  {
   "cell_type": "code",
   "execution_count": 172,
   "id": "4d9aab74-8d02-4d0f-b173-67eb5438279e",
   "metadata": {
    "id": "4d9aab74-8d02-4d0f-b173-67eb5438279e",
    "tags": []
   },
   "outputs": [
    {
     "ename": "KeyboardInterrupt",
     "evalue": "",
     "output_type": "error",
     "traceback": [
      "\u001b[0;31m---------------------------------------------------------------------------\u001b[0m",
      "\u001b[0;31mKeyboardInterrupt\u001b[0m                         Traceback (most recent call last)",
      "Cell \u001b[0;32mIn[172], line 14\u001b[0m\n\u001b[1;32m     12\u001b[0m league_leaders_df\u001b[38;5;241m.\u001b[39mloc[:, \u001b[38;5;124m'\u001b[39m\u001b[38;5;124mPPG\u001b[39m\u001b[38;5;124m'\u001b[39m] \u001b[38;5;241m=\u001b[39m league_leaders_df[\u001b[38;5;124m'\u001b[39m\u001b[38;5;124mPTS\u001b[39m\u001b[38;5;124m'\u001b[39m] \u001b[38;5;241m/\u001b[39m league_leaders_df[\u001b[38;5;124m'\u001b[39m\u001b[38;5;124mGP\u001b[39m\u001b[38;5;124m'\u001b[39m]\n\u001b[1;32m     13\u001b[0m league_leaders_df\u001b[38;5;241m.\u001b[39mloc[:, \u001b[38;5;124m'\u001b[39m\u001b[38;5;124mRPG\u001b[39m\u001b[38;5;124m'\u001b[39m] \u001b[38;5;241m=\u001b[39m league_leaders_df[\u001b[38;5;124m'\u001b[39m\u001b[38;5;124mREB\u001b[39m\u001b[38;5;124m'\u001b[39m] \u001b[38;5;241m/\u001b[39m league_leaders_df[\u001b[38;5;124m'\u001b[39m\u001b[38;5;124mGP\u001b[39m\u001b[38;5;124m'\u001b[39m]\n\u001b[0;32m---> 14\u001b[0m league_leaders_df\u001b[38;5;241m.\u001b[39mloc[:, \u001b[38;5;124m'\u001b[39m\u001b[38;5;124mAPG\u001b[39m\u001b[38;5;124m'\u001b[39m] \u001b[38;5;241m=\u001b[39m league_leaders_df[\u001b[38;5;124m'\u001b[39m\u001b[38;5;124mAST\u001b[39m\u001b[38;5;124m'\u001b[39m] \u001b[38;5;241m/\u001b[39m league_leaders_df[\u001b[38;5;124m'\u001b[39m\u001b[38;5;124mGP\u001b[39m\u001b[38;5;124m'\u001b[39m]\n\u001b[1;32m     15\u001b[0m league_leaders_df\u001b[38;5;241m.\u001b[39mloc[:, \u001b[38;5;124m'\u001b[39m\u001b[38;5;124mSPG\u001b[39m\u001b[38;5;124m'\u001b[39m] \u001b[38;5;241m=\u001b[39m league_leaders_df[\u001b[38;5;124m'\u001b[39m\u001b[38;5;124mSTL\u001b[39m\u001b[38;5;124m'\u001b[39m] \u001b[38;5;241m/\u001b[39m league_leaders_df[\u001b[38;5;124m'\u001b[39m\u001b[38;5;124mGP\u001b[39m\u001b[38;5;124m'\u001b[39m]\n\u001b[1;32m     16\u001b[0m league_leaders_df\u001b[38;5;241m.\u001b[39mloc[:, \u001b[38;5;124m'\u001b[39m\u001b[38;5;124mBPG\u001b[39m\u001b[38;5;124m'\u001b[39m] \u001b[38;5;241m=\u001b[39m league_leaders_df[\u001b[38;5;124m'\u001b[39m\u001b[38;5;124mBLK\u001b[39m\u001b[38;5;124m'\u001b[39m] \u001b[38;5;241m/\u001b[39m league_leaders_df[\u001b[38;5;124m'\u001b[39m\u001b[38;5;124mGP\u001b[39m\u001b[38;5;124m'\u001b[39m]\n",
      "File \u001b[0;32m~/anaconda3/lib/python3.11/site-packages/pandas/core/frame.py:3771\u001b[0m, in \u001b[0;36mDataFrame.__getitem__\u001b[0;34m(self, key)\u001b[0m\n\u001b[1;32m   3766\u001b[0m is_mi \u001b[38;5;241m=\u001b[39m \u001b[38;5;28misinstance\u001b[39m(\u001b[38;5;28mself\u001b[39m\u001b[38;5;241m.\u001b[39mcolumns, MultiIndex)\n\u001b[1;32m   3767\u001b[0m \u001b[38;5;66;03m# GH#45316 Return view if key is not duplicated\u001b[39;00m\n\u001b[1;32m   3768\u001b[0m \u001b[38;5;66;03m# Only use drop_duplicates with duplicates for performance\u001b[39;00m\n\u001b[1;32m   3769\u001b[0m \u001b[38;5;28;01mif\u001b[39;00m \u001b[38;5;129;01mnot\u001b[39;00m is_mi \u001b[38;5;129;01mand\u001b[39;00m (\n\u001b[1;32m   3770\u001b[0m     \u001b[38;5;28mself\u001b[39m\u001b[38;5;241m.\u001b[39mcolumns\u001b[38;5;241m.\u001b[39mis_unique\n\u001b[0;32m-> 3771\u001b[0m     \u001b[38;5;129;01mand\u001b[39;00m key \u001b[38;5;129;01min\u001b[39;00m \u001b[38;5;28mself\u001b[39m\u001b[38;5;241m.\u001b[39mcolumns\n\u001b[1;32m   3772\u001b[0m     \u001b[38;5;129;01mor\u001b[39;00m key \u001b[38;5;129;01min\u001b[39;00m \u001b[38;5;28mself\u001b[39m\u001b[38;5;241m.\u001b[39mcolumns\u001b[38;5;241m.\u001b[39mdrop_duplicates(keep\u001b[38;5;241m=\u001b[39m\u001b[38;5;28;01mFalse\u001b[39;00m)\n\u001b[1;32m   3773\u001b[0m ):\n\u001b[1;32m   3774\u001b[0m     \u001b[38;5;28;01mreturn\u001b[39;00m \u001b[38;5;28mself\u001b[39m\u001b[38;5;241m.\u001b[39m_get_item_cache(key)\n\u001b[1;32m   3776\u001b[0m \u001b[38;5;28;01melif\u001b[39;00m is_mi \u001b[38;5;129;01mand\u001b[39;00m \u001b[38;5;28mself\u001b[39m\u001b[38;5;241m.\u001b[39mcolumns\u001b[38;5;241m.\u001b[39mis_unique \u001b[38;5;129;01mand\u001b[39;00m key \u001b[38;5;129;01min\u001b[39;00m \u001b[38;5;28mself\u001b[39m\u001b[38;5;241m.\u001b[39mcolumns:\n",
      "File \u001b[0;32m~/anaconda3/lib/python3.11/site-packages/pandas/core/indexes/base.py:5254\u001b[0m, in \u001b[0;36mIndex.__contains__\u001b[0;34m(self, key)\u001b[0m\n\u001b[1;32m   5246\u001b[0m     warnings\u001b[38;5;241m.\u001b[39mwarn(\n\u001b[1;32m   5247\u001b[0m         \u001b[38;5;124m\"\u001b[39m\u001b[38;5;124mIndex.is_type_compatible is deprecated and will be removed in a \u001b[39m\u001b[38;5;124m\"\u001b[39m\n\u001b[1;32m   5248\u001b[0m         \u001b[38;5;124m\"\u001b[39m\u001b[38;5;124mfuture version.\u001b[39m\u001b[38;5;124m\"\u001b[39m,\n\u001b[1;32m   5249\u001b[0m         \u001b[38;5;167;01mFutureWarning\u001b[39;00m,\n\u001b[1;32m   5250\u001b[0m         stacklevel\u001b[38;5;241m=\u001b[39mfind_stack_level(),\n\u001b[1;32m   5251\u001b[0m     )\n\u001b[1;32m   5252\u001b[0m     \u001b[38;5;28;01mreturn\u001b[39;00m kind \u001b[38;5;241m==\u001b[39m \u001b[38;5;28mself\u001b[39m\u001b[38;5;241m.\u001b[39minferred_type\n\u001b[0;32m-> 5254\u001b[0m \u001b[38;5;28;01mdef\u001b[39;00m \u001b[38;5;21m__contains__\u001b[39m(\u001b[38;5;28mself\u001b[39m, key: Any) \u001b[38;5;241m-\u001b[39m\u001b[38;5;241m>\u001b[39m \u001b[38;5;28mbool\u001b[39m:\n\u001b[1;32m   5255\u001b[0m \u001b[38;5;250m    \u001b[39m\u001b[38;5;124;03m\"\"\"\u001b[39;00m\n\u001b[1;32m   5256\u001b[0m \u001b[38;5;124;03m    Return a boolean indicating whether the provided key is in the index.\u001b[39;00m\n\u001b[1;32m   5257\u001b[0m \n\u001b[0;32m   (...)\u001b[0m\n\u001b[1;32m   5287\u001b[0m \u001b[38;5;124;03m    False\u001b[39;00m\n\u001b[1;32m   5288\u001b[0m \u001b[38;5;124;03m    \"\"\"\u001b[39;00m\n\u001b[1;32m   5289\u001b[0m     \u001b[38;5;28mhash\u001b[39m(key)\n",
      "\u001b[0;31mKeyboardInterrupt\u001b[0m: "
     ]
    }
   ],
   "source": [
    "total_player_stats_df = pd.DataFrame()\n",
    "\n",
    "for season in seasons:\n",
    "    league_leaders = leagueleaders.LeagueLeaders(\n",
    "      season=season,\n",
    "      season_type_all_star=\"Regular Season\",\n",
    "      stat_category_abbreviation='PTS'\n",
    "    ).get_data_frames()[0]\n",
    "\n",
    "    league_leaders_df = league_leaders[['PLAYER_ID', 'PLAYER', 'TEAM_ID', 'TEAM', 'GP', 'FG_PCT', 'FG3_PCT', 'FT_PCT', 'REB', 'AST', 'STL', 'BLK', 'TOV', 'PTS', 'EFF', 'AST_TOV']]\n",
    "    league_leaders_df = league_leaders_df.copy()\n",
    "    league_leaders_df.loc[:, 'PPG'] = league_leaders_df['PTS'] / league_leaders_df['GP']\n",
    "    league_leaders_df.loc[:, 'RPG'] = league_leaders_df['REB'] / league_leaders_df['GP']\n",
    "    league_leaders_df.loc[:, 'APG'] = league_leaders_df['AST'] / league_leaders_df['GP']\n",
    "    league_leaders_df.loc[:, 'SPG'] = league_leaders_df['STL'] / league_leaders_df['GP']\n",
    "    league_leaders_df.loc[:, 'BPG'] = league_leaders_df['BLK'] / league_leaders_df['GP']\n",
    "    league_leaders_df.loc[:, 'TPG'] = league_leaders_df['TOV'] / league_leaders_df['GP']\n",
    "    league_leaders_df['YEAR'] = season\n",
    "\n",
    "    league_leaders_pg_df = league_leaders_df[['YEAR', 'PLAYER_ID', 'PLAYER', 'TEAM_ID', 'TEAM', 'GP', 'FG_PCT', 'FG3_PCT', 'FT_PCT', 'EFF', 'AST_TOV', 'PPG', 'RPG', 'APG', 'SPG', 'BPG', 'TPG']]\n",
    "\n",
    "    total_player_stats_df = pd.concat([total_player_stats_df, league_leaders_pg_df], sort=False)\n"
   ]
  },
  {
   "cell_type": "code",
   "execution_count": null,
   "id": "cac39e7b-5867-48c1-8d9c-4ad9d5ee597c",
   "metadata": {
    "colab": {
     "base_uri": "https://localhost:8080/",
     "height": 424
    },
    "id": "cac39e7b-5867-48c1-8d9c-4ad9d5ee597c",
    "outputId": "6cd61334-e593-4c2d-97a9-ada6e5eb50d6",
    "tags": []
   },
   "outputs": [],
   "source": [
    "total_player_stats_df"
   ]
  },
  {
   "cell_type": "markdown",
   "id": "hA8JXOw-z8jP",
   "metadata": {
    "id": "hA8JXOw-z8jP"
   },
   "source": [
    "##### Given our goal to try to predict the All-NBA selections, we need to be cognizant of the positional limitations that have typically occurred during voting, historically, Basketball is played with 5 major positions. Point Guard, Shooting Guard, Small Forward, Power Forward, and Center. Given these limitations we want to add the notion of position to our dataset to ensure that we can do some post processing considerations later."
   ]
  },
  {
   "cell_type": "code",
   "execution_count": null,
   "id": "bac4a6fc-7c76-4e49-bf8f-cfaa3195fa79",
   "metadata": {
    "id": "bac4a6fc-7c76-4e49-bf8f-cfaa3195fa79",
    "tags": []
   },
   "outputs": [],
   "source": [
    "def get_player_position(player_id):\n",
    "  try:\n",
    "    player_info = commonplayerinfo.CommonPlayerInfo(player_id=player_id)\n",
    "    player_info_dict = player_info.get_normalized_dict()\n",
    "    position = player_info_dict['CommonPlayerInfo'][0]['POSITION']\n",
    "    return position\n",
    "  except Exception as e:\n",
    "    print(f\"Unable to Fetch Position {player_id}: {e}\")\n",
    "    return None\n",
    "\n",
    "def assign_positions_to_df(df, player_positions):\n",
    "  df['POS'] = player_positions[df['PLAYER_ID']]\n",
    "  return df"
   ]
  },
  {
   "cell_type": "markdown",
   "id": "XvkAichA0ogA",
   "metadata": {
    "id": "XvkAichA0ogA"
   },
   "source": [
    "##### Given many players play across multiple years, we need to further filter this to unique player ids:"
   ]
  },
  {
   "cell_type": "code",
   "execution_count": null,
   "id": "c769a98e-b365-45e6-b132-abb97103edd2",
   "metadata": {
    "id": "c769a98e-b365-45e6-b132-abb97103edd2",
    "tags": []
   },
   "outputs": [],
   "source": [
    "unique_player_ids = total_player_stats_df['PLAYER_ID'].unique()"
   ]
  },
  {
   "cell_type": "code",
   "execution_count": null,
   "id": "43c2d8f2-4b65-4467-a868-c8de86cc54fe",
   "metadata": {
    "colab": {
     "base_uri": "https://localhost:8080/",
     "height": 1000
    },
    "id": "43c2d8f2-4b65-4467-a868-c8de86cc54fe",
    "outputId": "9f4d51c9-b97f-4ab0-b513-c8406c3a366b",
    "tags": []
   },
   "outputs": [],
   "source": [
    "player_pos = {}\n",
    "for player_id in unique_player_ids:\n",
    "    try:\n",
    "        position = get_player_position(player_id)\n",
    "        player_pos[player_id] = position\n",
    "        print(f\"Identified Player ID {player_id}, Position: {position}\")\n",
    "    except Exception as e:\n",
    "        print(f\"Error with Player ID {player_id}: {e}\")\n",
    "    time.sleep(1)\n"
   ]
  },
  {
   "cell_type": "code",
   "execution_count": null,
   "id": "TsuFXIqj4Y9x",
   "metadata": {
    "colab": {
     "base_uri": "https://localhost:8080/",
     "height": 669
    },
    "id": "TsuFXIqj4Y9x",
    "outputId": "fdce2245-1c77-445d-fcb6-a42ec94d81d4",
    "tags": []
   },
   "outputs": [],
   "source": [
    "def get_position(player_id):\n",
    "  try:\n",
    "    position = get_player_position(player_id)\n",
    "    return player_id, position\n",
    "  except Exception as e:\n",
    "    print(f\"Error with Player ID {player_id}: {e}\")\n",
    "    return player_id, None\n",
    "\n",
    "player_pos = {}\n",
    "with concurrent.futures.ThreadPoolExecutor() as executor:\n",
    "  futures = {executor.submit(get_position, player_id): player_id for player_id in unique_player_ids}\n",
    "  for future in concurrent.futures.as_completed(futures):\n",
    "    player_id, position = future.result()\n",
    "    if position is not None:\n",
    "        player_pos[player_id] = position\n",
    "        print(f\"Identified Player ID {player_id}, Position: {position}\")\n",
    "    time.sleep(1)"
   ]
  },
  {
   "cell_type": "markdown",
   "id": "MY1yLZUT1A0O",
   "metadata": {
    "id": "MY1yLZUT1A0O"
   },
   "source": [
    "##### We manually have built a dictionary containing the previous 10 years of All-NBA player selections ignoring the 3 different levels (1st, 2nd, 3rd team) and consolidating these selections across seasons."
   ]
  },
  {
   "cell_type": "code",
   "execution_count": null,
   "id": "29e50151-61f6-459d-86ba-e9df9e67d577",
   "metadata": {
    "id": "29e50151-61f6-459d-86ba-e9df9e67d577",
    "tags": []
   },
   "outputs": [],
   "source": [
    "all_nba_selections = {\n",
    "    \"2010-11\": [\"Kevin Durant\", \"Pau Gasol\", \"LaMarcus Aldridge\", \"LeBron James\", \"Dirk Nowitzki\", \"Zach Randolph\", \"Dwight Howard\", \"Amar'e Stoudemire\", \"Al Horford\", \"Kobe Bryant\", \"Dwyane Wade\", \"Manu Ginóbili\", \"Derrick Rose\", \"Russell Westbrook\", \"Chris Paul\"],\n",
    "    \"2011-12\": [\"LeBron James\", \"Kevin Love\", \"Carmelo Anthony\", \"Kevin Durant\", \"Blake Griffin\", \"Dirk Nowitzki\", \"Dwight Howard\", \"Andrew Bynum\", \"Tyson Chandler\", \"Kobe Bryant\", \"Tony Parker\", \"Dwyane Wade\", \"Chris Paul\", \"Russell Westbrook\", \"Rajon Rondo\"],\n",
    "    \"2012-13\": [\"LeBron James\", \"Carmelo Anthony\", \"David Lee\", \"Kevin Durant\", \"Blake Griffin\", \"Paul George\", \"Tim Duncan\", \"Marc Gasol\", \"Dwight Howard\", \"Kobe Bryant\", \"Tony Parker\", \"Dwyane Wade\", \"Chris Paul\", \"Russell Westbrook\", \"James Harden\"],\n",
    "    \"2013-14\": [\"Kevin Durant\", \"Blake Griffin\", \"Paul George\", \"LeBron James\", \"Kevin Love\", \"LaMarcus Aldridge\", \"Joakim Noah\", \"Dwight Howard\", \"Al Jefferson\", \"James Harden\", \"Stephen Curry\", \"Goran Dragić\", \"Chris Paul\", \"Tony Parker\", \"Damian Lillard\"],\n",
    "    \"2014-15\": [\"LeBron James\", \"LaMarcus Aldridge\", \"Blake Griffin\", \"Anthony Davis\", \"Pau Gasol\", \"Tim Duncan\", \"Marc Gasol\", \"DeMarcus Cousins\", \"DeAndre Jordan\", \"James Harden\", \"Russell Westbrook\", \"Klay Thompson\", \"Stephen Curry\", \"Chris Paul\", \"Kyrie Irving\"],\n",
    "    \"2015-16\": [\"Kawhi Leonard\", \"Kevin Durant\", \"Paul George\", \"LeBron James\", \"Draymond Green\", \"LaMarcus Aldridge\", \"DeAndre Jordan\", \"DeMarcus Cousins\", \"Andre Drummond\", \"Stephen Curry\", \"Damian Lillard\", \"Klay Thompson\", \"Russell Westbrook\", \"Chris Paul\", \"Kyle Lowry\"],\n",
    "    \"2016-17\": [\"Kawhi Leonard\", \"Kevin Durant\", \"Jimmy Butler\", \"LeBron James\", \"Giannis Antetokounmpo\", \"Draymond Green\", \"Anthony Davis\", \"Rudy Gobert\", \"DeAndre Jordan\", \"James Harden\", \"Stephen Curry\", \"John Wall\", \"Russell Westbrook\", \"Isaiah Thomas\", \"DeMar DeRozan\"],\n",
    "    \"2017-18\": [\"Kevin Durant\", \"LaMarcus Aldridge\", \"Jimmy Butler\", \"LeBron James\", \"Giannis Antetokounmpo\", \"Paul George\", \"Anthony Davis\", \"Joel Embiid\", \"Karl-Anthony Towns\", \"James Harden\", \"DeMar DeRozan\", \"Victor Oladipo\", \"Damian Lillard\", \"Russell Westbrook\", \"Stephen Curry\"],\n",
    "    \"2018-19\": [\"Giannis Antetokounmpo\", \"Kevin Durant\", \"Blake Griffin\", \"Paul George\", \"Kawhi Leonard\", \"LeBron James\", \"Nikola Jokić\", \"Joel Embiid\", \"Rudy Gobert\", \"James Harden\", \"Damian Lillard\", \"Russell Westbrook\", \"Stephen Curry\", \"Kyrie Irving\", \"Kemba Walker\"],\n",
    "    \"2019-20\": [\"LeBron James\", \"Kawhi Leonard\", \"Jimmy Butler\", \"Giannis Antetokounmpo\", \"Pascal Siakam\", \"Jayson Tatum\", \"Anthony Davis\", \"Nikola Jokić\", \"Rudy Gobert\", \"James Harden\", \"Damian Lillard\", \"Ben Simmons\", \"Luka Dončić\", \"Chris Paul\", \"Russell Westbrook\"]\n",
    "}\n"
   ]
  },
  {
   "cell_type": "markdown",
   "id": "rHTXahrT1aaB",
   "metadata": {
    "id": "rHTXahrT1aaB"
   },
   "source": [
    "##### We need a binary classifier to determine whether a player was selected as All-NBA across the season in question, the below helper and lambda function allow us to also add this classification to our dataset."
   ]
  },
  {
   "cell_type": "code",
   "execution_count": null,
   "id": "541623df-a7ce-415d-8fcc-d7dfcc0aa0e8",
   "metadata": {
    "id": "541623df-a7ce-415d-8fcc-d7dfcc0aa0e8",
    "tags": []
   },
   "outputs": [],
   "source": [
    "def assign_all_nba_status(df, all_nba_dict):\n",
    "  def is_all_nba(player, year):\n",
    "      return player in all_nba_dict.get(year, [])\n",
    "  df['is_all_nba'] = df.apply(lambda row: is_all_nba(row['PLAYER'], row['YEAR']), axis=1)\n",
    "  return df\n",
    "\n",
    "total_player_w_all_nba_df =  assign_all_nba_status(total_player_stats_df, all_nba_selections)"
   ]
  },
  {
   "cell_type": "markdown",
   "id": "J1ZKkMNv1y30",
   "metadata": {
    "id": "J1ZKkMNv1y30"
   },
   "source": [
    "##### Similarly, we can use our previously defined player dictionary to assign positions to the players:"
   ]
  },
  {
   "cell_type": "code",
   "execution_count": null,
   "id": "15d84400-e316-4695-b166-dcea36310ab8",
   "metadata": {
    "id": "15d84400-e316-4695-b166-dcea36310ab8"
   },
   "outputs": [],
   "source": [
    "def assign_pos(df, player_pos):\n",
    "  def get_pos(player_id):\n",
    "      return position in player_pos.get(player_id, \"\")\n",
    "  df['POSITION'] = df.apply(lambda row: player_pos[row['PLAYER_ID']], axis=1)\n",
    "  return df"
   ]
  },
  {
   "cell_type": "code",
   "execution_count": null,
   "id": "f97b47b9-6122-4b54-a521-1a67c0b72ad6",
   "metadata": {
    "id": "f97b47b9-6122-4b54-a521-1a67c0b72ad6",
    "tags": []
   },
   "outputs": [],
   "source": [
    "total_player_w_pos_nba_df =  assign_pos(total_player_w_all_nba_df, player_pos)"
   ]
  },
  {
   "cell_type": "code",
   "execution_count": null,
   "id": "862bcefd-8dea-43fa-a283-8d29b752c4b6",
   "metadata": {
    "id": "862bcefd-8dea-43fa-a283-8d29b752c4b6"
   },
   "outputs": [],
   "source": [
    "total_player_w_pos_nba_df.to_csv('full_player_data_10-20.csv', index=False)"
   ]
  },
  {
   "cell_type": "markdown",
   "id": "4a580138-aa59-40f3-9705-5e8b9f19ab9c",
   "metadata": {},
   "source": [
    "#### Alternatively, you can use the static, pre-constructed dataset with position loaded so you don't need to wait for the labeling to run above."
   ]
  },
  {
   "cell_type": "code",
   "execution_count": 3,
   "id": "d68999c6",
   "metadata": {
    "tags": []
   },
   "outputs": [
    {
     "data": {
      "text/html": [
       "<div>\n",
       "<style scoped>\n",
       "    .dataframe tbody tr th:only-of-type {\n",
       "        vertical-align: middle;\n",
       "    }\n",
       "\n",
       "    .dataframe tbody tr th {\n",
       "        vertical-align: top;\n",
       "    }\n",
       "\n",
       "    .dataframe thead th {\n",
       "        text-align: right;\n",
       "    }\n",
       "</style>\n",
       "<table border=\"1\" class=\"dataframe\">\n",
       "  <thead>\n",
       "    <tr style=\"text-align: right;\">\n",
       "      <th></th>\n",
       "      <th>YEAR</th>\n",
       "      <th>PLAYER_ID</th>\n",
       "      <th>PLAYER</th>\n",
       "      <th>TEAM_ID</th>\n",
       "      <th>TEAM</th>\n",
       "      <th>GP</th>\n",
       "      <th>FG_PCT</th>\n",
       "      <th>FG3_PCT</th>\n",
       "      <th>FT_PCT</th>\n",
       "      <th>EFF</th>\n",
       "      <th>AST_TOV</th>\n",
       "      <th>PPG</th>\n",
       "      <th>RPG</th>\n",
       "      <th>APG</th>\n",
       "      <th>SPG</th>\n",
       "      <th>BPG</th>\n",
       "      <th>TPG</th>\n",
       "      <th>is_all_nba</th>\n",
       "      <th>POSITION</th>\n",
       "      <th>season_start_year</th>\n",
       "    </tr>\n",
       "  </thead>\n",
       "  <tbody>\n",
       "    <tr>\n",
       "      <th>0</th>\n",
       "      <td>2010-11</td>\n",
       "      <td>201142</td>\n",
       "      <td>Kevin Durant</td>\n",
       "      <td>1610612760</td>\n",
       "      <td>OKC</td>\n",
       "      <td>78</td>\n",
       "      <td>0.462</td>\n",
       "      <td>0.350</td>\n",
       "      <td>0.880</td>\n",
       "      <td>1946</td>\n",
       "      <td>0.98</td>\n",
       "      <td>27.705128</td>\n",
       "      <td>6.833333</td>\n",
       "      <td>2.743590</td>\n",
       "      <td>1.128205</td>\n",
       "      <td>0.974359</td>\n",
       "      <td>2.794872</td>\n",
       "      <td>True</td>\n",
       "      <td>Forward</td>\n",
       "      <td>2010</td>\n",
       "    </tr>\n",
       "    <tr>\n",
       "      <th>1</th>\n",
       "      <td>2010-11</td>\n",
       "      <td>2544</td>\n",
       "      <td>LeBron James</td>\n",
       "      <td>1610612748</td>\n",
       "      <td>MIA</td>\n",
       "      <td>79</td>\n",
       "      <td>0.510</td>\n",
       "      <td>0.330</td>\n",
       "      <td>0.759</td>\n",
       "      <td>2258</td>\n",
       "      <td>1.95</td>\n",
       "      <td>26.721519</td>\n",
       "      <td>7.468354</td>\n",
       "      <td>7.012658</td>\n",
       "      <td>1.569620</td>\n",
       "      <td>0.632911</td>\n",
       "      <td>3.594937</td>\n",
       "      <td>True</td>\n",
       "      <td>Forward</td>\n",
       "      <td>2010</td>\n",
       "    </tr>\n",
       "    <tr>\n",
       "      <th>2</th>\n",
       "      <td>2010-11</td>\n",
       "      <td>977</td>\n",
       "      <td>Kobe Bryant</td>\n",
       "      <td>1610612747</td>\n",
       "      <td>LAL</td>\n",
       "      <td>82</td>\n",
       "      <td>0.451</td>\n",
       "      <td>0.323</td>\n",
       "      <td>0.828</td>\n",
       "      <td>1754</td>\n",
       "      <td>1.60</td>\n",
       "      <td>25.341463</td>\n",
       "      <td>5.109756</td>\n",
       "      <td>4.731707</td>\n",
       "      <td>1.207317</td>\n",
       "      <td>0.146341</td>\n",
       "      <td>2.963415</td>\n",
       "      <td>True</td>\n",
       "      <td>Forward-Guard</td>\n",
       "      <td>2010</td>\n",
       "    </tr>\n",
       "    <tr>\n",
       "      <th>3</th>\n",
       "      <td>2010-11</td>\n",
       "      <td>201565</td>\n",
       "      <td>Derrick Rose</td>\n",
       "      <td>1610612741</td>\n",
       "      <td>CHI</td>\n",
       "      <td>81</td>\n",
       "      <td>0.445</td>\n",
       "      <td>0.332</td>\n",
       "      <td>0.858</td>\n",
       "      <td>1872</td>\n",
       "      <td>2.24</td>\n",
       "      <td>25.012346</td>\n",
       "      <td>4.074074</td>\n",
       "      <td>7.691358</td>\n",
       "      <td>1.049383</td>\n",
       "      <td>0.629630</td>\n",
       "      <td>3.432099</td>\n",
       "      <td>True</td>\n",
       "      <td>Guard</td>\n",
       "      <td>2010</td>\n",
       "    </tr>\n",
       "    <tr>\n",
       "      <th>4</th>\n",
       "      <td>2010-11</td>\n",
       "      <td>2405</td>\n",
       "      <td>Amar'e Stoudemire</td>\n",
       "      <td>1610612752</td>\n",
       "      <td>NYK</td>\n",
       "      <td>78</td>\n",
       "      <td>0.502</td>\n",
       "      <td>0.435</td>\n",
       "      <td>0.792</td>\n",
       "      <td>1918</td>\n",
       "      <td>0.81</td>\n",
       "      <td>25.269231</td>\n",
       "      <td>8.153846</td>\n",
       "      <td>2.589744</td>\n",
       "      <td>0.910256</td>\n",
       "      <td>1.923077</td>\n",
       "      <td>3.205128</td>\n",
       "      <td>True</td>\n",
       "      <td>Forward-Center</td>\n",
       "      <td>2010</td>\n",
       "    </tr>\n",
       "    <tr>\n",
       "      <th>...</th>\n",
       "      <td>...</td>\n",
       "      <td>...</td>\n",
       "      <td>...</td>\n",
       "      <td>...</td>\n",
       "      <td>...</td>\n",
       "      <td>...</td>\n",
       "      <td>...</td>\n",
       "      <td>...</td>\n",
       "      <td>...</td>\n",
       "      <td>...</td>\n",
       "      <td>...</td>\n",
       "      <td>...</td>\n",
       "      <td>...</td>\n",
       "      <td>...</td>\n",
       "      <td>...</td>\n",
       "      <td>...</td>\n",
       "      <td>...</td>\n",
       "      <td>...</td>\n",
       "      <td>...</td>\n",
       "      <td>...</td>\n",
       "    </tr>\n",
       "    <tr>\n",
       "      <th>4928</th>\n",
       "      <td>2019-20</td>\n",
       "      <td>1629676</td>\n",
       "      <td>Isaiah Roby</td>\n",
       "      <td>1610612760</td>\n",
       "      <td>OKC</td>\n",
       "      <td>3</td>\n",
       "      <td>0.000</td>\n",
       "      <td>0.000</td>\n",
       "      <td>0.000</td>\n",
       "      <td>0</td>\n",
       "      <td>0.00</td>\n",
       "      <td>0.000000</td>\n",
       "      <td>0.666667</td>\n",
       "      <td>0.000000</td>\n",
       "      <td>0.000000</td>\n",
       "      <td>0.000000</td>\n",
       "      <td>0.333333</td>\n",
       "      <td>False</td>\n",
       "      <td>Forward</td>\n",
       "      <td>2019</td>\n",
       "    </tr>\n",
       "    <tr>\n",
       "      <th>4929</th>\n",
       "      <td>2019-20</td>\n",
       "      <td>1629122</td>\n",
       "      <td>J.P. Macura</td>\n",
       "      <td>1610612739</td>\n",
       "      <td>CLE</td>\n",
       "      <td>1</td>\n",
       "      <td>0.000</td>\n",
       "      <td>0.000</td>\n",
       "      <td>0.000</td>\n",
       "      <td>0</td>\n",
       "      <td>0.00</td>\n",
       "      <td>0.000000</td>\n",
       "      <td>0.000000</td>\n",
       "      <td>0.000000</td>\n",
       "      <td>0.000000</td>\n",
       "      <td>0.000000</td>\n",
       "      <td>0.000000</td>\n",
       "      <td>False</td>\n",
       "      <td>Guard</td>\n",
       "      <td>2019</td>\n",
       "    </tr>\n",
       "    <tr>\n",
       "      <th>4930</th>\n",
       "      <td>2019-20</td>\n",
       "      <td>1629716</td>\n",
       "      <td>Marques Bolden</td>\n",
       "      <td>1610612739</td>\n",
       "      <td>CLE</td>\n",
       "      <td>1</td>\n",
       "      <td>0.000</td>\n",
       "      <td>0.000</td>\n",
       "      <td>0.000</td>\n",
       "      <td>3</td>\n",
       "      <td>0.00</td>\n",
       "      <td>0.000000</td>\n",
       "      <td>2.000000</td>\n",
       "      <td>0.000000</td>\n",
       "      <td>1.000000</td>\n",
       "      <td>0.000000</td>\n",
       "      <td>0.000000</td>\n",
       "      <td>False</td>\n",
       "      <td>Center</td>\n",
       "      <td>2019</td>\n",
       "    </tr>\n",
       "    <tr>\n",
       "      <th>4931</th>\n",
       "      <td>2019-20</td>\n",
       "      <td>1629742</td>\n",
       "      <td>Stanton Kidd</td>\n",
       "      <td>1610612762</td>\n",
       "      <td>UTA</td>\n",
       "      <td>4</td>\n",
       "      <td>0.000</td>\n",
       "      <td>0.000</td>\n",
       "      <td>0.000</td>\n",
       "      <td>-1</td>\n",
       "      <td>0.50</td>\n",
       "      <td>0.000000</td>\n",
       "      <td>0.750000</td>\n",
       "      <td>0.250000</td>\n",
       "      <td>0.000000</td>\n",
       "      <td>0.000000</td>\n",
       "      <td>0.500000</td>\n",
       "      <td>False</td>\n",
       "      <td>Forward</td>\n",
       "      <td>2019</td>\n",
       "    </tr>\n",
       "    <tr>\n",
       "      <th>4932</th>\n",
       "      <td>2019-20</td>\n",
       "      <td>1629739</td>\n",
       "      <td>William Howard</td>\n",
       "      <td>1610612745</td>\n",
       "      <td>HOU</td>\n",
       "      <td>2</td>\n",
       "      <td>0.000</td>\n",
       "      <td>0.000</td>\n",
       "      <td>0.000</td>\n",
       "      <td>-2</td>\n",
       "      <td>1.00</td>\n",
       "      <td>0.000000</td>\n",
       "      <td>1.000000</td>\n",
       "      <td>0.500000</td>\n",
       "      <td>0.000000</td>\n",
       "      <td>0.000000</td>\n",
       "      <td>0.500000</td>\n",
       "      <td>False</td>\n",
       "      <td>Forward-Guard</td>\n",
       "      <td>2019</td>\n",
       "    </tr>\n",
       "  </tbody>\n",
       "</table>\n",
       "<p>4933 rows × 20 columns</p>\n",
       "</div>"
      ],
      "text/plain": [
       "         YEAR  PLAYER_ID             PLAYER     TEAM_ID TEAM  GP  FG_PCT  \\\n",
       "0     2010-11     201142       Kevin Durant  1610612760  OKC  78   0.462   \n",
       "1     2010-11       2544       LeBron James  1610612748  MIA  79   0.510   \n",
       "2     2010-11        977        Kobe Bryant  1610612747  LAL  82   0.451   \n",
       "3     2010-11     201565       Derrick Rose  1610612741  CHI  81   0.445   \n",
       "4     2010-11       2405  Amar'e Stoudemire  1610612752  NYK  78   0.502   \n",
       "...       ...        ...                ...         ...  ...  ..     ...   \n",
       "4928  2019-20    1629676        Isaiah Roby  1610612760  OKC   3   0.000   \n",
       "4929  2019-20    1629122        J.P. Macura  1610612739  CLE   1   0.000   \n",
       "4930  2019-20    1629716     Marques Bolden  1610612739  CLE   1   0.000   \n",
       "4931  2019-20    1629742       Stanton Kidd  1610612762  UTA   4   0.000   \n",
       "4932  2019-20    1629739     William Howard  1610612745  HOU   2   0.000   \n",
       "\n",
       "      FG3_PCT  FT_PCT   EFF  AST_TOV        PPG       RPG       APG       SPG  \\\n",
       "0       0.350   0.880  1946     0.98  27.705128  6.833333  2.743590  1.128205   \n",
       "1       0.330   0.759  2258     1.95  26.721519  7.468354  7.012658  1.569620   \n",
       "2       0.323   0.828  1754     1.60  25.341463  5.109756  4.731707  1.207317   \n",
       "3       0.332   0.858  1872     2.24  25.012346  4.074074  7.691358  1.049383   \n",
       "4       0.435   0.792  1918     0.81  25.269231  8.153846  2.589744  0.910256   \n",
       "...       ...     ...   ...      ...        ...       ...       ...       ...   \n",
       "4928    0.000   0.000     0     0.00   0.000000  0.666667  0.000000  0.000000   \n",
       "4929    0.000   0.000     0     0.00   0.000000  0.000000  0.000000  0.000000   \n",
       "4930    0.000   0.000     3     0.00   0.000000  2.000000  0.000000  1.000000   \n",
       "4931    0.000   0.000    -1     0.50   0.000000  0.750000  0.250000  0.000000   \n",
       "4932    0.000   0.000    -2     1.00   0.000000  1.000000  0.500000  0.000000   \n",
       "\n",
       "           BPG       TPG  is_all_nba        POSITION  season_start_year  \n",
       "0     0.974359  2.794872        True         Forward               2010  \n",
       "1     0.632911  3.594937        True         Forward               2010  \n",
       "2     0.146341  2.963415        True   Forward-Guard               2010  \n",
       "3     0.629630  3.432099        True           Guard               2010  \n",
       "4     1.923077  3.205128        True  Forward-Center               2010  \n",
       "...        ...       ...         ...             ...                ...  \n",
       "4928  0.000000  0.333333       False         Forward               2019  \n",
       "4929  0.000000  0.000000       False           Guard               2019  \n",
       "4930  0.000000  0.000000       False          Center               2019  \n",
       "4931  0.000000  0.500000       False         Forward               2019  \n",
       "4932  0.000000  0.500000       False   Forward-Guard               2019  \n",
       "\n",
       "[4933 rows x 20 columns]"
      ]
     },
     "execution_count": 3,
     "metadata": {},
     "output_type": "execute_result"
    }
   ],
   "source": [
    "total_player_w_pos_nba_df = pd.read_csv(\"data/full_player_data_10-20.csv\")\n",
    "total_player_w_pos_nba_df['season_start_year'] = total_player_w_pos_nba_df['YEAR'].apply(lambda x: int(x.split('-')[0]))\n",
    "total_player_w_pos_nba_df"
   ]
  },
  {
   "cell_type": "code",
   "execution_count": 141,
   "id": "253ba9eb-dd91-49ca-93cc-8d716d8b74af",
   "metadata": {
    "colab": {
     "base_uri": "https://localhost:8080/",
     "height": 634
    },
    "id": "253ba9eb-dd91-49ca-93cc-8d716d8b74af",
    "outputId": "af258cf7-f4ed-494b-dd8d-62cd672a6e99",
    "tags": []
   },
   "outputs": [
    {
     "name": "stderr",
     "output_type": "stream",
     "text": [
      "/var/folders/tt/_0j7v6r90_s6mr6y9p1hv1lw0000gn/T/ipykernel_11593/3922218746.py:8: SettingWithCopyWarning: \n",
      "A value is trying to be set on a copy of a slice from a DataFrame.\n",
      "Try using .loc[row_indexer,col_indexer] = value instead\n",
      "\n",
      "See the caveats in the documentation: https://pandas.pydata.org/pandas-docs/stable/user_guide/indexing.html#returning-a-view-versus-a-copy\n",
      "  team_winning_df['Start_Year']  = team_winning_df['Start_Year'].astype(int)\n"
     ]
    }
   ],
   "source": [
    "def fetch_season_data(season):\n",
    "    standings = leaguestandings.LeagueStandings(season=season)\n",
    "    return standings.get_data_frames()[0]\n",
    "\n",
    "all_seasons_data = pd.concat([fetch_season_data(season) for season in seasons])\n",
    "all_seasons_data['Start_Year'] = all_seasons_data['SeasonID'].str[1:]\n",
    "team_winning_df = all_seasons_data[['WinPCT', 'Start_Year', 'TeamID']]\n",
    "team_winning_df['Start_Year']  = team_winning_df['Start_Year'].astype(int)"
   ]
  },
  {
   "cell_type": "code",
   "execution_count": 144,
   "id": "8d787dfa-8a6f-48b9-95dc-5e4d548c3637",
   "metadata": {
    "id": "8d787dfa-8a6f-48b9-95dc-5e4d548c3637",
    "tags": []
   },
   "outputs": [
    {
     "data": {
      "text/html": [
       "<div>\n",
       "<style scoped>\n",
       "    .dataframe tbody tr th:only-of-type {\n",
       "        vertical-align: middle;\n",
       "    }\n",
       "\n",
       "    .dataframe tbody tr th {\n",
       "        vertical-align: top;\n",
       "    }\n",
       "\n",
       "    .dataframe thead th {\n",
       "        text-align: right;\n",
       "    }\n",
       "</style>\n",
       "<table border=\"1\" class=\"dataframe\">\n",
       "  <thead>\n",
       "    <tr style=\"text-align: right;\">\n",
       "      <th></th>\n",
       "      <th>YEAR</th>\n",
       "      <th>PLAYER_ID</th>\n",
       "      <th>PLAYER</th>\n",
       "      <th>TEAM_ID</th>\n",
       "      <th>TEAM</th>\n",
       "      <th>GP</th>\n",
       "      <th>FG_PCT</th>\n",
       "      <th>FG3_PCT</th>\n",
       "      <th>FT_PCT</th>\n",
       "      <th>EFF</th>\n",
       "      <th>...</th>\n",
       "      <th>APG</th>\n",
       "      <th>SPG</th>\n",
       "      <th>BPG</th>\n",
       "      <th>TPG</th>\n",
       "      <th>is_all_nba</th>\n",
       "      <th>POSITION</th>\n",
       "      <th>season_start_year</th>\n",
       "      <th>WinPCT</th>\n",
       "      <th>Start_Year</th>\n",
       "      <th>TeamID</th>\n",
       "    </tr>\n",
       "  </thead>\n",
       "  <tbody>\n",
       "    <tr>\n",
       "      <th>0</th>\n",
       "      <td>2010-11</td>\n",
       "      <td>201142</td>\n",
       "      <td>Kevin Durant</td>\n",
       "      <td>1610612760</td>\n",
       "      <td>OKC</td>\n",
       "      <td>78</td>\n",
       "      <td>0.462</td>\n",
       "      <td>0.350</td>\n",
       "      <td>0.880</td>\n",
       "      <td>1946</td>\n",
       "      <td>...</td>\n",
       "      <td>2.743590</td>\n",
       "      <td>1.128205</td>\n",
       "      <td>0.974359</td>\n",
       "      <td>2.794872</td>\n",
       "      <td>True</td>\n",
       "      <td>Forward</td>\n",
       "      <td>2010</td>\n",
       "      <td>0.671</td>\n",
       "      <td>2010</td>\n",
       "      <td>1610612760</td>\n",
       "    </tr>\n",
       "    <tr>\n",
       "      <th>1</th>\n",
       "      <td>2010-11</td>\n",
       "      <td>201566</td>\n",
       "      <td>Russell Westbrook</td>\n",
       "      <td>1610612760</td>\n",
       "      <td>OKC</td>\n",
       "      <td>82</td>\n",
       "      <td>0.442</td>\n",
       "      <td>0.330</td>\n",
       "      <td>0.842</td>\n",
       "      <td>1835</td>\n",
       "      <td>...</td>\n",
       "      <td>8.170732</td>\n",
       "      <td>1.890244</td>\n",
       "      <td>0.365854</td>\n",
       "      <td>3.853659</td>\n",
       "      <td>True</td>\n",
       "      <td>Guard</td>\n",
       "      <td>2010</td>\n",
       "      <td>0.671</td>\n",
       "      <td>2010</td>\n",
       "      <td>1610612760</td>\n",
       "    </tr>\n",
       "    <tr>\n",
       "      <th>2</th>\n",
       "      <td>2010-11</td>\n",
       "      <td>201935</td>\n",
       "      <td>James Harden</td>\n",
       "      <td>1610612760</td>\n",
       "      <td>OKC</td>\n",
       "      <td>82</td>\n",
       "      <td>0.436</td>\n",
       "      <td>0.349</td>\n",
       "      <td>0.843</td>\n",
       "      <td>999</td>\n",
       "      <td>...</td>\n",
       "      <td>2.146341</td>\n",
       "      <td>1.121951</td>\n",
       "      <td>0.292683</td>\n",
       "      <td>1.292683</td>\n",
       "      <td>False</td>\n",
       "      <td>Guard</td>\n",
       "      <td>2010</td>\n",
       "      <td>0.671</td>\n",
       "      <td>2010</td>\n",
       "      <td>1610612760</td>\n",
       "    </tr>\n",
       "    <tr>\n",
       "      <th>3</th>\n",
       "      <td>2010-11</td>\n",
       "      <td>201586</td>\n",
       "      <td>Serge Ibaka</td>\n",
       "      <td>1610612760</td>\n",
       "      <td>OKC</td>\n",
       "      <td>82</td>\n",
       "      <td>0.543</td>\n",
       "      <td>0.000</td>\n",
       "      <td>0.750</td>\n",
       "      <td>1282</td>\n",
       "      <td>...</td>\n",
       "      <td>0.268293</td>\n",
       "      <td>0.378049</td>\n",
       "      <td>2.414634</td>\n",
       "      <td>0.865854</td>\n",
       "      <td>False</td>\n",
       "      <td>Forward</td>\n",
       "      <td>2010</td>\n",
       "      <td>0.671</td>\n",
       "      <td>2010</td>\n",
       "      <td>1610612760</td>\n",
       "    </tr>\n",
       "    <tr>\n",
       "      <th>4</th>\n",
       "      <td>2010-11</td>\n",
       "      <td>1737</td>\n",
       "      <td>Nazr Mohammed</td>\n",
       "      <td>1610612760</td>\n",
       "      <td>OKC</td>\n",
       "      <td>75</td>\n",
       "      <td>0.522</td>\n",
       "      <td>0.000</td>\n",
       "      <td>0.598</td>\n",
       "      <td>683</td>\n",
       "      <td>...</td>\n",
       "      <td>0.306667</td>\n",
       "      <td>0.400000</td>\n",
       "      <td>0.746667</td>\n",
       "      <td>0.933333</td>\n",
       "      <td>False</td>\n",
       "      <td>Center</td>\n",
       "      <td>2010</td>\n",
       "      <td>0.671</td>\n",
       "      <td>2010</td>\n",
       "      <td>1610612760</td>\n",
       "    </tr>\n",
       "    <tr>\n",
       "      <th>...</th>\n",
       "      <td>...</td>\n",
       "      <td>...</td>\n",
       "      <td>...</td>\n",
       "      <td>...</td>\n",
       "      <td>...</td>\n",
       "      <td>...</td>\n",
       "      <td>...</td>\n",
       "      <td>...</td>\n",
       "      <td>...</td>\n",
       "      <td>...</td>\n",
       "      <td>...</td>\n",
       "      <td>...</td>\n",
       "      <td>...</td>\n",
       "      <td>...</td>\n",
       "      <td>...</td>\n",
       "      <td>...</td>\n",
       "      <td>...</td>\n",
       "      <td>...</td>\n",
       "      <td>...</td>\n",
       "      <td>...</td>\n",
       "      <td>...</td>\n",
       "    </tr>\n",
       "    <tr>\n",
       "      <th>4928</th>\n",
       "      <td>2019-20</td>\n",
       "      <td>1628476</td>\n",
       "      <td>Derrick Walton Jr.</td>\n",
       "      <td>1610612765</td>\n",
       "      <td>DET</td>\n",
       "      <td>26</td>\n",
       "      <td>0.462</td>\n",
       "      <td>0.417</td>\n",
       "      <td>0.778</td>\n",
       "      <td>75</td>\n",
       "      <td>...</td>\n",
       "      <td>1.038462</td>\n",
       "      <td>0.269231</td>\n",
       "      <td>0.000000</td>\n",
       "      <td>0.192308</td>\n",
       "      <td>False</td>\n",
       "      <td>Guard</td>\n",
       "      <td>2019</td>\n",
       "      <td>0.303</td>\n",
       "      <td>2019</td>\n",
       "      <td>1610612765</td>\n",
       "    </tr>\n",
       "    <tr>\n",
       "      <th>4929</th>\n",
       "      <td>2019-20</td>\n",
       "      <td>1629663</td>\n",
       "      <td>Louis King</td>\n",
       "      <td>1610612765</td>\n",
       "      <td>DET</td>\n",
       "      <td>10</td>\n",
       "      <td>0.381</td>\n",
       "      <td>0.364</td>\n",
       "      <td>0.000</td>\n",
       "      <td>19</td>\n",
       "      <td>...</td>\n",
       "      <td>0.500000</td>\n",
       "      <td>0.200000</td>\n",
       "      <td>0.000000</td>\n",
       "      <td>0.200000</td>\n",
       "      <td>False</td>\n",
       "      <td>Forward</td>\n",
       "      <td>2019</td>\n",
       "      <td>0.303</td>\n",
       "      <td>2019</td>\n",
       "      <td>1610612765</td>\n",
       "    </tr>\n",
       "    <tr>\n",
       "      <th>4930</th>\n",
       "      <td>2019-20</td>\n",
       "      <td>1629017</td>\n",
       "      <td>Khyri Thomas</td>\n",
       "      <td>1610612765</td>\n",
       "      <td>DET</td>\n",
       "      <td>8</td>\n",
       "      <td>0.294</td>\n",
       "      <td>0.357</td>\n",
       "      <td>0.500</td>\n",
       "      <td>7</td>\n",
       "      <td>...</td>\n",
       "      <td>0.375000</td>\n",
       "      <td>0.375000</td>\n",
       "      <td>0.000000</td>\n",
       "      <td>0.375000</td>\n",
       "      <td>False</td>\n",
       "      <td>Guard</td>\n",
       "      <td>2019</td>\n",
       "      <td>0.303</td>\n",
       "      <td>2019</td>\n",
       "      <td>1610612765</td>\n",
       "    </tr>\n",
       "    <tr>\n",
       "      <th>4931</th>\n",
       "      <td>2019-20</td>\n",
       "      <td>1629648</td>\n",
       "      <td>Jordan Bone</td>\n",
       "      <td>1610612765</td>\n",
       "      <td>DET</td>\n",
       "      <td>10</td>\n",
       "      <td>0.250</td>\n",
       "      <td>0.200</td>\n",
       "      <td>0.000</td>\n",
       "      <td>8</td>\n",
       "      <td>...</td>\n",
       "      <td>0.800000</td>\n",
       "      <td>0.100000</td>\n",
       "      <td>0.000000</td>\n",
       "      <td>0.200000</td>\n",
       "      <td>False</td>\n",
       "      <td>Guard</td>\n",
       "      <td>2019</td>\n",
       "      <td>0.303</td>\n",
       "      <td>2019</td>\n",
       "      <td>1610612765</td>\n",
       "    </tr>\n",
       "    <tr>\n",
       "      <th>4932</th>\n",
       "      <td>2019-20</td>\n",
       "      <td>1628383</td>\n",
       "      <td>Justin Patton</td>\n",
       "      <td>1610612765</td>\n",
       "      <td>DET</td>\n",
       "      <td>5</td>\n",
       "      <td>0.400</td>\n",
       "      <td>0.250</td>\n",
       "      <td>0.000</td>\n",
       "      <td>8</td>\n",
       "      <td>...</td>\n",
       "      <td>0.400000</td>\n",
       "      <td>0.000000</td>\n",
       "      <td>0.000000</td>\n",
       "      <td>0.400000</td>\n",
       "      <td>False</td>\n",
       "      <td>Center</td>\n",
       "      <td>2019</td>\n",
       "      <td>0.303</td>\n",
       "      <td>2019</td>\n",
       "      <td>1610612765</td>\n",
       "    </tr>\n",
       "  </tbody>\n",
       "</table>\n",
       "<p>4933 rows × 23 columns</p>\n",
       "</div>"
      ],
      "text/plain": [
       "         YEAR  PLAYER_ID              PLAYER     TEAM_ID TEAM  GP  FG_PCT  \\\n",
       "0     2010-11     201142        Kevin Durant  1610612760  OKC  78   0.462   \n",
       "1     2010-11     201566   Russell Westbrook  1610612760  OKC  82   0.442   \n",
       "2     2010-11     201935        James Harden  1610612760  OKC  82   0.436   \n",
       "3     2010-11     201586         Serge Ibaka  1610612760  OKC  82   0.543   \n",
       "4     2010-11       1737       Nazr Mohammed  1610612760  OKC  75   0.522   \n",
       "...       ...        ...                 ...         ...  ...  ..     ...   \n",
       "4928  2019-20    1628476  Derrick Walton Jr.  1610612765  DET  26   0.462   \n",
       "4929  2019-20    1629663          Louis King  1610612765  DET  10   0.381   \n",
       "4930  2019-20    1629017        Khyri Thomas  1610612765  DET   8   0.294   \n",
       "4931  2019-20    1629648         Jordan Bone  1610612765  DET  10   0.250   \n",
       "4932  2019-20    1628383       Justin Patton  1610612765  DET   5   0.400   \n",
       "\n",
       "      FG3_PCT  FT_PCT   EFF  ...       APG       SPG       BPG       TPG  \\\n",
       "0       0.350   0.880  1946  ...  2.743590  1.128205  0.974359  2.794872   \n",
       "1       0.330   0.842  1835  ...  8.170732  1.890244  0.365854  3.853659   \n",
       "2       0.349   0.843   999  ...  2.146341  1.121951  0.292683  1.292683   \n",
       "3       0.000   0.750  1282  ...  0.268293  0.378049  2.414634  0.865854   \n",
       "4       0.000   0.598   683  ...  0.306667  0.400000  0.746667  0.933333   \n",
       "...       ...     ...   ...  ...       ...       ...       ...       ...   \n",
       "4928    0.417   0.778    75  ...  1.038462  0.269231  0.000000  0.192308   \n",
       "4929    0.364   0.000    19  ...  0.500000  0.200000  0.000000  0.200000   \n",
       "4930    0.357   0.500     7  ...  0.375000  0.375000  0.000000  0.375000   \n",
       "4931    0.200   0.000     8  ...  0.800000  0.100000  0.000000  0.200000   \n",
       "4932    0.250   0.000     8  ...  0.400000  0.000000  0.000000  0.400000   \n",
       "\n",
       "      is_all_nba  POSITION  season_start_year  WinPCT Start_Year      TeamID  \n",
       "0           True   Forward               2010   0.671       2010  1610612760  \n",
       "1           True     Guard               2010   0.671       2010  1610612760  \n",
       "2          False     Guard               2010   0.671       2010  1610612760  \n",
       "3          False   Forward               2010   0.671       2010  1610612760  \n",
       "4          False    Center               2010   0.671       2010  1610612760  \n",
       "...          ...       ...                ...     ...        ...         ...  \n",
       "4928       False     Guard               2019   0.303       2019  1610612765  \n",
       "4929       False   Forward               2019   0.303       2019  1610612765  \n",
       "4930       False     Guard               2019   0.303       2019  1610612765  \n",
       "4931       False     Guard               2019   0.303       2019  1610612765  \n",
       "4932       False    Center               2019   0.303       2019  1610612765  \n",
       "\n",
       "[4933 rows x 23 columns]"
      ]
     },
     "execution_count": 144,
     "metadata": {},
     "output_type": "execute_result"
    }
   ],
   "source": [
    "final_df = total_player_w_pos_nba_df.merge(team_winning_df, left_on=['TEAM_ID','season_start_year'], right_on=['TeamID','Start_Year'], how='inner')\n",
    "final_df"
   ]
  },
  {
   "cell_type": "code",
   "execution_count": 169,
   "id": "424c941c-90d2-4403-ab8a-8cf80e4be926",
   "metadata": {
    "tags": []
   },
   "outputs": [],
   "source": [
    "final_df.to_csv('2010-2020_final_df.csv', index=False)"
   ]
  },
  {
   "cell_type": "markdown",
   "id": "ceaebc97-7512-4d18-9aec-1c7487a78c26",
   "metadata": {},
   "source": [
    "## Start here to use pre-constructed dataset and go into model experimentation."
   ]
  },
  {
   "cell_type": "code",
   "execution_count": 173,
   "id": "829372df-f010-4098-a7b9-d4b4ae3bb91a",
   "metadata": {
    "tags": []
   },
   "outputs": [],
   "source": [
    "final_df = pd.read_csv('data/2010-2020_final_df.csv')"
   ]
  },
  {
   "cell_type": "code",
   "execution_count": 174,
   "id": "1c0ebed6-064f-4fa4-a55c-4aebd0dd315e",
   "metadata": {
    "tags": []
   },
   "outputs": [],
   "source": [
    "\n",
    "features = ['GP', 'PPG', 'RPG', 'APG', 'FG_PCT', 'FG3_PCT', 'FT_PCT', 'SPG', 'BPG', 'TPG',  'is_all_nba', 'WinPCT']\n",
    "X = final_df[features].drop('is_all_nba', axis=1)\n",
    "y = final_df['is_all_nba']\n",
    "\n",
    "train_df = final_df[final_df['season_start_year'] < 2017]\n",
    "test_df = final_df[final_df['season_start_year'] >= 2017]\n",
    "\n",
    "X_train = train_df[features].drop('is_all_nba', axis=1)\n",
    "y_train = train_df['is_all_nba']\n",
    "X_test = test_df[features].drop('is_all_nba', axis=1)\n",
    "y_test = test_df['is_all_nba']"
   ]
  },
  {
   "cell_type": "markdown",
   "id": "223e16bd-57cb-4924-a9e7-13a1fe21bd2a",
   "metadata": {},
   "source": [
    "## BINARY CLASSIFICATION"
   ]
  },
  {
   "cell_type": "markdown",
   "id": "RVo_RS0J_n5y",
   "metadata": {
    "id": "RVo_RS0J_n5y"
   },
   "source": [
    "##### Taking our more complete data frame, we can do a few additional pre-processing steps before using a RandomForestClassifier. As one can see in the code below, splitting the data into sections before and after 2017, and using is_all_nba as our feature for our training variable, before initializing and fitting our Random Forest."
   ]
  },
  {
   "cell_type": "code",
   "execution_count": 175,
   "id": "db890346-af75-4401-88f5-7e0441b929b8",
   "metadata": {
    "colab": {
     "base_uri": "https://localhost:8080/",
     "height": 391
    },
    "id": "db890346-af75-4401-88f5-7e0441b929b8",
    "outputId": "973fec87-40cd-44f3-edad-237383120932",
    "tags": []
   },
   "outputs": [
    {
     "name": "stdout",
     "output_type": "stream",
     "text": [
      "              precision    recall  f1-score   support\n",
      "\n",
      "       False       0.99      1.00      1.00      1557\n",
      "        True       0.85      0.79      0.81        42\n",
      "\n",
      "    accuracy                           0.99      1599\n",
      "   macro avg       0.92      0.89      0.91      1599\n",
      "weighted avg       0.99      0.99      0.99      1599\n",
      "\n"
     ]
    }
   ],
   "source": [
    "\n",
    "\n",
    "scaler = StandardScaler()\n",
    "X_train_scaled = scaler.fit_transform(X_train)\n",
    "X_test_scaled = scaler.transform(X_test)\n",
    "\n",
    "model = RandomForestClassifier()\n",
    "model.fit(X_train, y_train)\n",
    "\n",
    "predictions = model.predict(X_test)\n",
    "\n",
    "print(classification_report(y_test, predictions))\n"
   ]
  },
  {
   "cell_type": "markdown",
   "id": "00419e57",
   "metadata": {},
   "source": [
    "##### We can now sort our features and plot them to give us visual reference for the importance of each"
   ]
  },
  {
   "cell_type": "code",
   "execution_count": 176,
   "id": "a8aacef4-e11a-4cfe-999a-187f72f74c45",
   "metadata": {
    "colab": {
     "base_uri": "https://localhost:8080/",
     "height": 545
    },
    "id": "a8aacef4-e11a-4cfe-999a-187f72f74c45",
    "outputId": "89b49676-6664-4ee5-bb1d-51a0690d6918",
    "tags": []
   },
   "outputs": [
    {
     "data": {
      "image/png": "[encoded data removed]",
      "text/plain": [
       "<Figure size 1200x600 with 1 Axes>"
      ]
     },
     "metadata": {},
     "output_type": "display_data"
    }
   ],
   "source": [
    "feature_importances = model.feature_importances_\n",
    "features = X_train.columns\n",
    "importances = pd.Series(feature_importances, index=features)\n",
    "importances_sorted = importances.sort_values()\n",
    "\n",
    "plt.figure(figsize=(12,6))\n",
    "importances_sorted.plot(kind='barh', color='lightblue')\n",
    "plt.title('Importance of Selected Features')\n",
    "plt.show()\n"
   ]
  },
  {
   "cell_type": "code",
   "execution_count": 177,
   "id": "3e3020f5-2f5e-47f3-baf4-9463660d2d0a",
   "metadata": {
    "tags": []
   },
   "outputs": [
    {
     "data": {
      "text/plain": [
       "GP         0.030313\n",
       "PPG        0.317135\n",
       "RPG        0.110644\n",
       "APG        0.077559\n",
       "FG_PCT     0.053113\n",
       "FG3_PCT    0.030029\n",
       "FT_PCT     0.041823\n",
       "SPG        0.074612\n",
       "BPG        0.052288\n",
       "TPG        0.106884\n",
       "WinPCT     0.105598\n",
       "dtype: float64"
      ]
     },
     "execution_count": 177,
     "metadata": {},
     "output_type": "execute_result"
    }
   ],
   "source": [
    "importances\n"
   ]
  },
  {
   "cell_type": "markdown",
   "id": "fd2f4d25",
   "metadata": {},
   "source": [
    "## Gradient Boost Classification"
   ]
  },
  {
   "cell_type": "code",
   "execution_count": 178,
   "id": "22f59ef6-60e6-4a2e-8b35-bfd6a0c3b215",
   "metadata": {
    "colab": {
     "base_uri": "https://localhost:8080/"
    },
    "id": "6f500bb7-1f53-4ace-94c5-14ef04a34493",
    "outputId": "bf1f1f33-68ba-4363-a1b7-c8e58688a170",
    "tags": []
   },
   "outputs": [
    {
     "name": "stdout",
     "output_type": "stream",
     "text": [
      "              precision    recall  f1-score   support\n",
      "\n",
      "       False       1.00      0.99      0.99      1557\n",
      "        True       0.69      0.83      0.75        42\n",
      "\n",
      "    accuracy                           0.99      1599\n",
      "   macro avg       0.84      0.91      0.87      1599\n",
      "weighted avg       0.99      0.99      0.99      1599\n",
      "\n"
     ]
    }
   ],
   "source": [
    "gb_model = GradientBoostingClassifier()\n",
    "gb_model.fit(X_train, y_train)\n",
    "gb_predictions = gb_model.predict(X_test)\n",
    "print(classification_report(y_test, gb_predictions))\n"
   ]
  },
  {
   "cell_type": "code",
   "execution_count": 179,
   "id": "2988f8a0-32c7-4d26-acd6-7741b3e5f468",
   "metadata": {
    "colab": {
     "base_uri": "https://localhost:8080/"
    },
    "id": "2988f8a0-32c7-4d26-acd6-7741b3e5f468",
    "outputId": "a9751f71-22a7-4fcf-8e7b-b2b7c4511309",
    "tags": []
   },
   "outputs": [
    {
     "name": "stdout",
     "output_type": "stream",
     "text": [
      "                  Player     Year  Actual  Predicted  Comparison\n",
      "3373    DeMarcus Cousins  2017-18   False       True       False\n",
      "3525        Jimmy Butler  2017-18    True      False       False\n",
      "3593        Kyrie Irving  2017-18   False       True       False\n",
      "3652        Nikola Jokic  2017-18   False       True       False\n",
      "3875        Clint Capela  2018-19   False       True       False\n",
      "3911        Kemba Walker  2018-19    True      False       False\n",
      "3965       Klay Thompson  2018-19   False       True       False\n",
      "3998  Karl-Anthony Towns  2018-19   False       True       False\n",
      "4016       Blake Griffin  2018-19    True      False       False\n",
      "4033    Donovan Mitchell  2018-19   False       True       False\n",
      "4069   LaMarcus Aldridge  2018-19   False       True       False\n",
      "4152        Nikola Jokic  2018-19   False       True       False\n",
      "4205       Anthony Davis  2018-19   False       True       False\n",
      "4424      Damian Lillard  2019-20    True      False       False\n",
      "4491         Luka Doncic  2019-20   False       True       False\n",
      "4548    Donovan Mitchell  2019-20   False       True       False\n",
      "4587         Paul George  2019-20   False       True       False\n",
      "4651        Nikola Jokic  2019-20   False       True       False\n",
      "4669         Joel Embiid  2019-20   False       True       False\n",
      "4671         Ben Simmons  2019-20    True      False       False\n",
      "4740          Chris Paul  2019-20    True      False       False\n",
      "4757    Domantas Sabonis  2019-20   False       True       False\n",
      "4865        Jimmy Butler  2019-20    True      False       False\n"
     ]
    }
   ],
   "source": [
    "results_df = pd.DataFrame({\n",
    "    'Player': test_df['PLAYER'],\n",
    "    'Year': test_df['YEAR'],\n",
    "    'Actual': y_test,\n",
    "    'Predicted': gb_predictions\n",
    "})\n",
    "\n",
    "results_df['Comparison'] = results_df['Actual'] == results_df['Predicted']\n",
    "mismatched_results = results_df[results_df['Comparison'] == False]\n",
    "print(mismatched_results.drop_duplicates())\n"
   ]
  },
  {
   "cell_type": "code",
   "execution_count": 185,
   "id": "b3cc1c40-835f-45c0-a61f-4d376f5b9d7d",
   "metadata": {
    "colab": {
     "base_uri": "https://localhost:8080/"
    },
    "id": "b3cc1c40-835f-45c0-a61f-4d376f5b9d7d",
    "outputId": "21c1a785-60ee-4553-fb7f-810e40785fa4",
    "tags": []
   },
   "outputs": [
    {
     "name": "stdout",
     "output_type": "stream",
     "text": [
      "                  PLAYER  Actual  Predicted\n",
      "3373    DeMarcus Cousins   False       True\n",
      "3525        Jimmy Butler    True      False\n",
      "3593        Kyrie Irving   False       True\n",
      "3652        Nikola Jokic   False       True\n",
      "3875        Clint Capela   False       True\n",
      "3911        Kemba Walker    True      False\n",
      "3965       Klay Thompson   False       True\n",
      "3998  Karl-Anthony Towns   False       True\n",
      "4016       Blake Griffin    True      False\n",
      "4033    Donovan Mitchell   False       True\n",
      "4069   LaMarcus Aldridge   False       True\n",
      "4205       Anthony Davis   False       True\n",
      "4424      Damian Lillard    True      False\n",
      "4491         Luka Doncic   False       True\n",
      "4587         Paul George   False       True\n",
      "4669         Joel Embiid   False       True\n",
      "4671         Ben Simmons    True      False\n",
      "4740          Chris Paul    True      False\n",
      "4757    Domantas Sabonis   False       True\n"
     ]
    }
   ],
   "source": [
    "X_test_with_player = test_df[['PLAYER']].copy()\n",
    "X_test_with_player['Actual'] = y_test\n",
    "X_test_with_player['Predicted'] = gb_predictions\n",
    "print(X_test_with_player[X_test_with_player['Actual'] != X_test_with_player['Predicted']].drop_duplicates())\n"
   ]
  },
  {
   "cell_type": "code",
   "execution_count": null,
   "id": "66757440-9337-4d44-97f8-2b2be1b5e421",
   "metadata": {},
   "outputs": [],
   "source": []
  },
  {
   "cell_type": "markdown",
   "id": "4cdeb532",
   "metadata": {},
   "source": [
    "## Random Forest with Probabilities"
   ]
  },
  {
   "cell_type": "code",
   "execution_count": 188,
   "id": "81928075-1637-4757-9cc6-a19b562ee6d8",
   "metadata": {
    "colab": {
     "base_uri": "https://localhost:8080/"
    },
    "id": "81928075-1637-4757-9cc6-a19b562ee6d8",
    "outputId": "a4fa8f4b-5bcf-4ab8-e78a-ddd25b841041",
    "tags": []
   },
   "outputs": [],
   "source": [
    "model = RandomForestClassifier()\n",
    "model.fit(X_train, y_train)\n",
    "prob_predictions = model.predict_proba(X_test)\n",
    "positive_class_probs = prob_predictions[:, 1]\n",
    "results_df = pd.DataFrame({\n",
    "    'Player': test_df['PLAYER'],\n",
    "    'Player_ID': test_df['PLAYER_ID'],\n",
    "    'Position': test_df['POSITION'],\n",
    "    'Year': test_df['YEAR'],\n",
    "    'Actual': y_test,\n",
    "    'Predicted Probability': positive_class_probs\n",
    "})\n",
    "predicted_probabilities_df = results_df.sort_values(by=['Year', 'Predicted Probability'], ascending=False)"
   ]
  },
  {
   "cell_type": "code",
   "execution_count": 189,
   "id": "6ccf7342-9f0b-44bf-8089-3df10b161851",
   "metadata": {
    "tags": []
   },
   "outputs": [
    {
     "data": {
      "image/png": "[encoded data removed]",
      "text/plain": [
       "<Figure size 1000x600 with 1 Axes>"
      ]
     },
     "metadata": {},
     "output_type": "display_data"
    }
   ],
   "source": [
    "feature_importances = model.feature_importances_\n",
    "features = X_train.columns\n",
    "\n",
    "importances = pd.Series(feature_importances, index=features)\n",
    "\n",
    "\n",
    "importances_sorted = importances.sort_values()\n",
    "\n",
    "# Plot\n",
    "plt.figure(figsize=(10,6))\n",
    "importances_sorted.plot(kind='barh', color='lightblue')\n",
    "plt.title('Feature Importances in Random Forest')\n",
    "plt.show()\n"
   ]
  },
  {
   "cell_type": "markdown",
   "id": "4e232652-ede2-4a7a-87bd-9ad4ffcdf07f",
   "metadata": {},
   "source": [
    "We would've expected points and win percentage to play a critical part in All-NBA selections.  However, TPG is quite surprising as it's typically viewed as a negative.  We suspect that the model is rewarding high turnovers because its a sign of high usage, which the best players in basketball typically will have."
   ]
  },
  {
   "cell_type": "code",
   "execution_count": 156,
   "id": "901a9aba-ecc6-4181-bfce-2a4c67495e18",
   "metadata": {
    "tags": []
   },
   "outputs": [],
   "source": [
    "\n",
    "predicted_probabilities_df['Predicted_AllNBA'] = False\n",
    "\n",
    "# Define a function to mark top players\n",
    "def mark_top_players(group):\n",
    "    for position in ['Guard', 'Forward', 'Center']:\n",
    "        # Define the number of players to select for each position\n",
    "        num_to_select = 6 if position in ['Guard', 'Forward'] else 3\n",
    "        top_players = group[group['Position'].str.contains(position)].nlargest(num_to_select, 'Predicted Probability')\n",
    "        group.loc[top_players.index, 'Predicted_AllNBA'] = True\n",
    "    return group\n",
    "\n",
    "# Group by year and apply the function\n",
    "predicted_probabilities_df = predicted_probabilities_df.groupby('Year', group_keys=True).apply(mark_top_players)"
   ]
  },
  {
   "cell_type": "code",
   "execution_count": 157,
   "id": "cc6b9087-7c04-4a61-946d-b5cf5b24cb43",
   "metadata": {
    "tags": []
   },
   "outputs": [],
   "source": [
    "predicted_probabilities_df['Comparison'] = predicted_probabilities_df.apply(lambda x: 'Match' if (x['Actual'] == 1 and x['Predicted_AllNBA'] == 1) or (x['Actual'] == 0 and x['Predicted_AllNBA'] == 0 ) else 'Mismatch', axis=1)"
   ]
  },
  {
   "cell_type": "code",
   "execution_count": null,
   "id": "dd18f7f4-2099-4e5a-b075-8ad9d0119b2f",
   "metadata": {
    "tags": []
   },
   "outputs": [],
   "source": [
    "predicted_probabilities_df[predicted_probabilities_df['Predicted_AllNBA'] == True]"
   ]
  },
  {
   "cell_type": "code",
   "execution_count": null,
   "id": "fed97199-bbb9-459b-99c6-b39edf5fdac3",
   "metadata": {
    "tags": []
   },
   "outputs": [],
   "source": [
    "mismatched_players_df = predicted_probabilities_df[predicted_probabilities_df['Comparison'] == 'Mismatch' ]\n",
    "mismatched_players_df[mismatched_players_df['Predicted_AllNBA'] == False]"
   ]
  },
  {
   "cell_type": "code",
   "execution_count": 159,
   "id": "57fec25a-8e78-4cbd-99f2-72e377ad2e54",
   "metadata": {
    "tags": []
   },
   "outputs": [
    {
     "name": "stdout",
     "output_type": "stream",
     "text": [
      "              precision    recall  f1-score   support\n",
      "\n",
      "       False       0.99      0.99      0.99      1557\n",
      "        True       0.76      0.69      0.72        42\n",
      "\n",
      "    accuracy                           0.99      1599\n",
      "   macro avg       0.88      0.84      0.86      1599\n",
      "weighted avg       0.99      0.99      0.99      1599\n",
      "\n"
     ]
    }
   ],
   "source": [
    "print(classification_report(predicted_probabilities_df['Actual'], predicted_probabilities_df['Predicted_AllNBA']))"
   ]
  },
  {
   "cell_type": "markdown",
   "id": "9dceae90-d657-4e14-ac1e-dc8e75f0d8f1",
   "metadata": {
    "id": "cdf25ae9-3302-4eb4-8332-e99f4d0ba859"
   },
   "source": [
    "## Multiple Regression"
   ]
  },
  {
   "cell_type": "code",
   "execution_count": 164,
   "id": "085d0ad0-b6da-4c66-b3f4-c5490e2cda23",
   "metadata": {
    "tags": []
   },
   "outputs": [
    {
     "name": "stderr",
     "output_type": "stream",
     "text": [
      "/Users/omerkhan/anaconda3/lib/python3.11/site-packages/sklearn/linear_model/_logistic.py:458: ConvergenceWarning: lbfgs failed to converge (status=1):\n",
      "STOP: TOTAL NO. of ITERATIONS REACHED LIMIT.\n",
      "\n",
      "Increase the number of iterations (max_iter) or scale the data as shown in:\n",
      "    https://scikit-learn.org/stable/modules/preprocessing.html\n",
      "Please also refer to the documentation for alternative solver options:\n",
      "    https://scikit-learn.org/stable/modules/linear_model.html#logistic-regression\n",
      "  n_iter_i = _check_optimize_result(\n"
     ]
    },
    {
     "data": {
      "text/html": [
       "<div>\n",
       "<style scoped>\n",
       "    .dataframe tbody tr th:only-of-type {\n",
       "        vertical-align: middle;\n",
       "    }\n",
       "\n",
       "    .dataframe tbody tr th {\n",
       "        vertical-align: top;\n",
       "    }\n",
       "\n",
       "    .dataframe thead th {\n",
       "        text-align: right;\n",
       "    }\n",
       "</style>\n",
       "<table border=\"1\" class=\"dataframe\">\n",
       "  <thead>\n",
       "    <tr style=\"text-align: right;\">\n",
       "      <th></th>\n",
       "      <th>Player</th>\n",
       "      <th>Player_ID</th>\n",
       "      <th>Position</th>\n",
       "      <th>Year</th>\n",
       "      <th>Actual</th>\n",
       "      <th>Predicted Probability</th>\n",
       "    </tr>\n",
       "  </thead>\n",
       "  <tbody>\n",
       "    <tr>\n",
       "      <th>4457</th>\n",
       "      <td>Giannis Antetokounmpo</td>\n",
       "      <td>203507</td>\n",
       "      <td>Forward</td>\n",
       "      <td>2019-20</td>\n",
       "      <td>True</td>\n",
       "      <td>9.987642e-01</td>\n",
       "    </tr>\n",
       "    <tr>\n",
       "      <th>4530</th>\n",
       "      <td>LeBron James</td>\n",
       "      <td>2544</td>\n",
       "      <td>Forward</td>\n",
       "      <td>2019-20</td>\n",
       "      <td>True</td>\n",
       "      <td>9.926573e-01</td>\n",
       "    </tr>\n",
       "    <tr>\n",
       "      <th>4404</th>\n",
       "      <td>James Harden</td>\n",
       "      <td>201935</td>\n",
       "      <td>Guard</td>\n",
       "      <td>2019-20</td>\n",
       "      <td>True</td>\n",
       "      <td>9.923459e-01</td>\n",
       "    </tr>\n",
       "    <tr>\n",
       "      <th>4491</th>\n",
       "      <td>Luka Doncic</td>\n",
       "      <td>1629029</td>\n",
       "      <td>Forward-Guard</td>\n",
       "      <td>2019-20</td>\n",
       "      <td>False</td>\n",
       "      <td>9.888136e-01</td>\n",
       "    </tr>\n",
       "    <tr>\n",
       "      <th>4531</th>\n",
       "      <td>Anthony Davis</td>\n",
       "      <td>203076</td>\n",
       "      <td>Forward-Center</td>\n",
       "      <td>2019-20</td>\n",
       "      <td>True</td>\n",
       "      <td>9.426206e-01</td>\n",
       "    </tr>\n",
       "    <tr>\n",
       "      <th>...</th>\n",
       "      <td>...</td>\n",
       "      <td>...</td>\n",
       "      <td>...</td>\n",
       "      <td>...</td>\n",
       "      <td>...</td>\n",
       "      <td>...</td>\n",
       "    </tr>\n",
       "    <tr>\n",
       "      <th>3521</th>\n",
       "      <td>Marcus Paige</td>\n",
       "      <td>1627779</td>\n",
       "      <td>Guard</td>\n",
       "      <td>2017-18</td>\n",
       "      <td>False</td>\n",
       "      <td>7.959208e-07</td>\n",
       "    </tr>\n",
       "    <tr>\n",
       "      <th>3855</th>\n",
       "      <td>Adreian Payne</td>\n",
       "      <td>203940</td>\n",
       "      <td>Forward</td>\n",
       "      <td>2017-18</td>\n",
       "      <td>False</td>\n",
       "      <td>3.971349e-07</td>\n",
       "    </tr>\n",
       "    <tr>\n",
       "      <th>3723</th>\n",
       "      <td>Antonius Cleveland</td>\n",
       "      <td>1628499</td>\n",
       "      <td>Guard</td>\n",
       "      <td>2017-18</td>\n",
       "      <td>False</td>\n",
       "      <td>3.282578e-07</td>\n",
       "    </tr>\n",
       "    <tr>\n",
       "      <th>3587</th>\n",
       "      <td>David Stockton</td>\n",
       "      <td>204065</td>\n",
       "      <td>Guard</td>\n",
       "      <td>2017-18</td>\n",
       "      <td>False</td>\n",
       "      <td>2.973160e-07</td>\n",
       "    </tr>\n",
       "    <tr>\n",
       "      <th>3628</th>\n",
       "      <td>Gian Clavell</td>\n",
       "      <td>1628492</td>\n",
       "      <td>Guard</td>\n",
       "      <td>2017-18</td>\n",
       "      <td>False</td>\n",
       "      <td>2.967507e-07</td>\n",
       "    </tr>\n",
       "  </tbody>\n",
       "</table>\n",
       "<p>1599 rows × 6 columns</p>\n",
       "</div>"
      ],
      "text/plain": [
       "                     Player  Player_ID        Position     Year  Actual  \\\n",
       "4457  Giannis Antetokounmpo     203507         Forward  2019-20    True   \n",
       "4530           LeBron James       2544         Forward  2019-20    True   \n",
       "4404           James Harden     201935           Guard  2019-20    True   \n",
       "4491            Luka Doncic    1629029   Forward-Guard  2019-20   False   \n",
       "4531          Anthony Davis     203076  Forward-Center  2019-20    True   \n",
       "...                     ...        ...             ...      ...     ...   \n",
       "3521           Marcus Paige    1627779           Guard  2017-18   False   \n",
       "3855          Adreian Payne     203940         Forward  2017-18   False   \n",
       "3723     Antonius Cleveland    1628499           Guard  2017-18   False   \n",
       "3587         David Stockton     204065           Guard  2017-18   False   \n",
       "3628           Gian Clavell    1628492           Guard  2017-18   False   \n",
       "\n",
       "      Predicted Probability  \n",
       "4457           9.987642e-01  \n",
       "4530           9.926573e-01  \n",
       "4404           9.923459e-01  \n",
       "4491           9.888136e-01  \n",
       "4531           9.426206e-01  \n",
       "...                     ...  \n",
       "3521           7.959208e-07  \n",
       "3855           3.971349e-07  \n",
       "3723           3.282578e-07  \n",
       "3587           2.973160e-07  \n",
       "3628           2.967507e-07  \n",
       "\n",
       "[1599 rows x 6 columns]"
      ]
     },
     "execution_count": 164,
     "metadata": {},
     "output_type": "execute_result"
    }
   ],
   "source": [
    "from sklearn.linear_model import LogisticRegression\n",
    "\n",
    "# Initialize the Logistic Regression model\n",
    "log_reg = LogisticRegression()\n",
    "\n",
    "# Fit the model on the training data\n",
    "log_reg.fit(X_train, y_train)\n",
    "\n",
    "# Predict probabilities on the test data\n",
    "# The output will have two columns: [probability of class 0, probability of class 1]\n",
    "prob_predictions = log_reg.predict_proba(X_test)\n",
    "\n",
    "# Extracting the probabilities for the positive class (class 1)\n",
    "positive_class_probs = prob_predictions[:, 1]\n",
    "\n",
    "# If you want to create a DataFrame with the results\n",
    "results_df = pd.DataFrame({\n",
    "    'Player': test_df['PLAYER'],\n",
    "    'Player_ID': test_df['PLAYER_ID'],\n",
    "    'Position': test_df['POSITION'],\n",
    "    'Year': test_df['YEAR'],\n",
    "    'Actual': y_test,\n",
    "    'Predicted Probability': positive_class_probs\n",
    "})\n",
    "\n",
    "regression_predicted_probabilities_df = results_df.sort_values(by=['Year', 'Predicted Probability'], ascending=False)\n",
    "regression_predicted_probabilities_df"
   ]
  },
  {
   "cell_type": "code",
   "execution_count": 165,
   "id": "7e90f140-f906-4547-bc03-fcedc979ef19",
   "metadata": {
    "tags": []
   },
   "outputs": [],
   "source": [
    "regression_predicted_probabilities_df['Predicted_AllNBA'] = False\n",
    "regression_predicted_probabilities_df = regression_predicted_probabilities_df.groupby('Year', group_keys=True).apply(mark_top_players)"
   ]
  },
  {
   "cell_type": "code",
   "execution_count": 166,
   "id": "c3df8180-64ae-40ed-8725-4f9ab8fe4db3",
   "metadata": {
    "tags": []
   },
   "outputs": [
    {
     "data": {
      "text/html": [
       "<div>\n",
       "<style scoped>\n",
       "    .dataframe tbody tr th:only-of-type {\n",
       "        vertical-align: middle;\n",
       "    }\n",
       "\n",
       "    .dataframe tbody tr th {\n",
       "        vertical-align: top;\n",
       "    }\n",
       "\n",
       "    .dataframe thead th {\n",
       "        text-align: right;\n",
       "    }\n",
       "</style>\n",
       "<table border=\"1\" class=\"dataframe\">\n",
       "  <thead>\n",
       "    <tr style=\"text-align: right;\">\n",
       "      <th></th>\n",
       "      <th></th>\n",
       "      <th>Player</th>\n",
       "      <th>Player_ID</th>\n",
       "      <th>Position</th>\n",
       "      <th>Year</th>\n",
       "      <th>Actual</th>\n",
       "      <th>Predicted Probability</th>\n",
       "      <th>Predicted_AllNBA</th>\n",
       "    </tr>\n",
       "    <tr>\n",
       "      <th>Year</th>\n",
       "      <th></th>\n",
       "      <th></th>\n",
       "      <th></th>\n",
       "      <th></th>\n",
       "      <th></th>\n",
       "      <th></th>\n",
       "      <th></th>\n",
       "      <th></th>\n",
       "    </tr>\n",
       "  </thead>\n",
       "  <tbody>\n",
       "    <tr>\n",
       "      <th rowspan=\"5\" valign=\"top\">2017-18</th>\n",
       "      <th>3334</th>\n",
       "      <td>LeBron James</td>\n",
       "      <td>2544</td>\n",
       "      <td>Forward</td>\n",
       "      <td>2017-18</td>\n",
       "      <td>True</td>\n",
       "      <td>9.915536e-01</td>\n",
       "      <td>True</td>\n",
       "    </tr>\n",
       "    <tr>\n",
       "      <th>3351</th>\n",
       "      <td>James Harden</td>\n",
       "      <td>201935</td>\n",
       "      <td>Guard</td>\n",
       "      <td>2017-18</td>\n",
       "      <td>True</td>\n",
       "      <td>9.903905e-01</td>\n",
       "      <td>True</td>\n",
       "    </tr>\n",
       "    <tr>\n",
       "      <th>3390</th>\n",
       "      <td>Russell Westbrook</td>\n",
       "      <td>201566</td>\n",
       "      <td>Guard</td>\n",
       "      <td>2017-18</td>\n",
       "      <td>True</td>\n",
       "      <td>9.900903e-01</td>\n",
       "      <td>True</td>\n",
       "    </tr>\n",
       "    <tr>\n",
       "      <th>3371</th>\n",
       "      <td>Anthony Davis</td>\n",
       "      <td>203076</td>\n",
       "      <td>Forward-Center</td>\n",
       "      <td>2017-18</td>\n",
       "      <td>True</td>\n",
       "      <td>9.754689e-01</td>\n",
       "      <td>True</td>\n",
       "    </tr>\n",
       "    <tr>\n",
       "      <th>3407</th>\n",
       "      <td>Giannis Antetokounmpo</td>\n",
       "      <td>203507</td>\n",
       "      <td>Forward</td>\n",
       "      <td>2017-18</td>\n",
       "      <td>True</td>\n",
       "      <td>9.581065e-01</td>\n",
       "      <td>True</td>\n",
       "    </tr>\n",
       "    <tr>\n",
       "      <th>...</th>\n",
       "      <th>...</th>\n",
       "      <td>...</td>\n",
       "      <td>...</td>\n",
       "      <td>...</td>\n",
       "      <td>...</td>\n",
       "      <td>...</td>\n",
       "      <td>...</td>\n",
       "      <td>...</td>\n",
       "    </tr>\n",
       "    <tr>\n",
       "      <th rowspan=\"5\" valign=\"top\">2019-20</th>\n",
       "      <th>4896</th>\n",
       "      <td>Joe Chealey</td>\n",
       "      <td>1629147</td>\n",
       "      <td>Guard</td>\n",
       "      <td>2019-20</td>\n",
       "      <td>False</td>\n",
       "      <td>2.297693e-07</td>\n",
       "      <td>False</td>\n",
       "    </tr>\n",
       "    <tr>\n",
       "      <th>4489</th>\n",
       "      <td>Charlie Brown Jr.</td>\n",
       "      <td>1629718</td>\n",
       "      <td>Guard</td>\n",
       "      <td>2019-20</td>\n",
       "      <td>False</td>\n",
       "      <td>1.886799e-07</td>\n",
       "      <td>False</td>\n",
       "    </tr>\n",
       "    <tr>\n",
       "      <th>4863</th>\n",
       "      <td>Zach Norvell Jr.</td>\n",
       "      <td>1629668</td>\n",
       "      <td>Guard-Forward</td>\n",
       "      <td>2019-20</td>\n",
       "      <td>False</td>\n",
       "      <td>1.658050e-07</td>\n",
       "      <td>False</td>\n",
       "    </tr>\n",
       "    <tr>\n",
       "      <th>4735</th>\n",
       "      <td>Malik Newman</td>\n",
       "      <td>1629005</td>\n",
       "      <td>Guard</td>\n",
       "      <td>2019-20</td>\n",
       "      <td>False</td>\n",
       "      <td>1.365939e-07</td>\n",
       "      <td>False</td>\n",
       "    </tr>\n",
       "    <tr>\n",
       "      <th>4913</th>\n",
       "      <td>Jarred Vanderbilt</td>\n",
       "      <td>1629020</td>\n",
       "      <td>Forward</td>\n",
       "      <td>2019-20</td>\n",
       "      <td>False</td>\n",
       "      <td>1.158467e-07</td>\n",
       "      <td>False</td>\n",
       "    </tr>\n",
       "  </tbody>\n",
       "</table>\n",
       "<p>1599 rows × 7 columns</p>\n",
       "</div>"
      ],
      "text/plain": [
       "                             Player  Player_ID        Position     Year  \\\n",
       "Year                                                                      \n",
       "2017-18 3334           LeBron James       2544         Forward  2017-18   \n",
       "        3351           James Harden     201935           Guard  2017-18   \n",
       "        3390      Russell Westbrook     201566           Guard  2017-18   \n",
       "        3371          Anthony Davis     203076  Forward-Center  2017-18   \n",
       "        3407  Giannis Antetokounmpo     203507         Forward  2017-18   \n",
       "...                             ...        ...             ...      ...   \n",
       "2019-20 4896            Joe Chealey    1629147           Guard  2019-20   \n",
       "        4489      Charlie Brown Jr.    1629718           Guard  2019-20   \n",
       "        4863       Zach Norvell Jr.    1629668   Guard-Forward  2019-20   \n",
       "        4735           Malik Newman    1629005           Guard  2019-20   \n",
       "        4913      Jarred Vanderbilt    1629020         Forward  2019-20   \n",
       "\n",
       "              Actual  Predicted Probability  Predicted_AllNBA  \n",
       "Year                                                           \n",
       "2017-18 3334    True           9.915536e-01              True  \n",
       "        3351    True           9.903905e-01              True  \n",
       "        3390    True           9.900903e-01              True  \n",
       "        3371    True           9.754689e-01              True  \n",
       "        3407    True           9.581065e-01              True  \n",
       "...              ...                    ...               ...  \n",
       "2019-20 4896   False           2.297693e-07             False  \n",
       "        4489   False           1.886799e-07             False  \n",
       "        4863   False           1.658050e-07             False  \n",
       "        4735   False           1.365939e-07             False  \n",
       "        4913   False           1.158467e-07             False  \n",
       "\n",
       "[1599 rows x 7 columns]"
      ]
     },
     "execution_count": 166,
     "metadata": {},
     "output_type": "execute_result"
    }
   ],
   "source": [
    "regression_predicted_probabilities_df"
   ]
  },
  {
   "cell_type": "code",
   "execution_count": 167,
   "id": "bb2617fc-3045-4f16-8cc2-542b3bfb5175",
   "metadata": {
    "tags": []
   },
   "outputs": [
    {
     "name": "stdout",
     "output_type": "stream",
     "text": [
      "              precision    recall  f1-score   support\n",
      "\n",
      "       False       0.99      0.99      0.99      1557\n",
      "        True       0.68      0.62      0.65        42\n",
      "\n",
      "    accuracy                           0.98      1599\n",
      "   macro avg       0.84      0.81      0.82      1599\n",
      "weighted avg       0.98      0.98      0.98      1599\n",
      "\n"
     ]
    }
   ],
   "source": [
    "print(classification_report(regression_predicted_probabilities_df['Actual'], regression_predicted_probabilities_df['Predicted_AllNBA']))"
   ]
  },
  {
   "cell_type": "code",
   "execution_count": null,
   "id": "e3c00c47-a2c6-4257-8015-51a37902bd0a",
   "metadata": {},
   "outputs": [],
   "source": []
  }
 ],
 "metadata": {
  "colab": {
   "provenance": []
  },
  "kernelspec": {
   "display_name": "Python 3 (ipykernel)",
   "language": "python",
   "name": "python3"
  },
  "language_info": {
   "codemirror_mode": {
    "name": "ipython",
    "version": 3
   },
   "file_extension": ".py",
   "mimetype": "text/x-python",
   "name": "python",
   "nbconvert_exporter": "python",
   "pygments_lexer": "ipython3",
   "version": "3.11.3"
  }
 },
 "nbformat": 4,
 "nbformat_minor": 5
}
